{
 "cells": [
  {
   "cell_type": "markdown",
   "metadata": {},
   "source": [
    "# WeatherPy\n",
    "----\n",
    "\n",
    "#### Note\n",
    "* Instructions have been included for each segment. You do not have to follow them exactly, but they are included to help you think through the steps.\n",
    "----"
   ]
  },
  {
   "cell_type": "markdown",
   "metadata": {},
   "source": [
    "## Observations and Insights\n",
    "- There is a strong correlation between latitude and temperatures in both hemispheres with an r-squared value of -0.8627048545571769 in the northern hemisphere and an r-squared: 0.5481163661256727 in the southern hemishere.\n",
    "- The maximum temperature for a city in the database is 107F and the lowest is -31F.\n",
    "- The maximum wind speed for a city in the database is 52mph and the lowest is 0.36mph.\n",
    "----"
   ]
  },
  {
   "cell_type": "code",
   "execution_count": 18,
   "metadata": {
    "scrolled": true
   },
   "outputs": [],
   "source": [
    "# Dependencies and Setup\n",
    "import matplotlib.pyplot as plt\n",
    "import pandas as pd\n",
    "import numpy as np\n",
    "import requests\n",
    "import time\n",
    "from scipy.stats import linregress\n",
    "\n",
    "# Import API key\n",
    "from config import api_key\n",
    "\n",
    "\n",
    "# Incorporated citipy to determine city based on latitude and longitude\n",
    "from citipy import citipy\n",
    "\n",
    "# Output File (CSV)\n",
    "output_data_file = \"output_data/cities.csv\"\n",
    "\n",
    "# Range of latitudes and longitudes\n",
    "lat_range = (-90, 90)\n",
    "lng_range = (-180, 180)"
   ]
  },
  {
   "cell_type": "markdown",
   "metadata": {},
   "source": [
    "## Generate Cities List"
   ]
  },
  {
   "cell_type": "code",
   "execution_count": 2,
   "metadata": {},
   "outputs": [
    {
     "data": {
      "text/plain": [
       "654"
      ]
     },
     "execution_count": 2,
     "metadata": {},
     "output_type": "execute_result"
    }
   ],
   "source": [
    "# List for holding lat_lngs and cities\n",
    "lat_lngs = []\n",
    "cities = []\n",
    "\n",
    "# Create a set of random lat and lng combinations\n",
    "lats = np.random.uniform(lat_range[0], lat_range[1], size=1500)\n",
    "lngs = np.random.uniform(lng_range[0], lng_range[1], size=1500)\n",
    "lat_lngs = zip(lats, lngs)\n",
    "\n",
    "# Identify nearest city for each lat, lng combination\n",
    "for lat_lng in lat_lngs:\n",
    "    city = citipy.nearest_city(lat_lng[0], lat_lng[1]).city_name\n",
    "    \n",
    "    # If the city is unique, then add it to a our cities list\n",
    "    if city not in cities:\n",
    "        cities.append(city)\n",
    "\n",
    "# Print the city count to confirm sufficient count\n",
    "len(cities)"
   ]
  },
  {
   "cell_type": "markdown",
   "metadata": {},
   "source": [
    "### Perform API Calls\n",
    "* Perform a weather check on each city using a series of successive API calls.\n",
    "* Include a print log of each city as it'sbeing processed (with the city number and city name).\n"
   ]
  },
  {
   "cell_type": "code",
   "execution_count": 3,
   "metadata": {
    "scrolled": true
   },
   "outputs": [
    {
     "data": {
      "text/plain": [
       "dict_keys(['coord', 'weather', 'base', 'main', 'visibility', 'wind', 'clouds', 'dt', 'sys', 'timezone', 'id', 'name', 'cod'])"
      ]
     },
     "execution_count": 3,
     "metadata": {},
     "output_type": "execute_result"
    }
   ],
   "source": [
    "# Empty lists to append data and use for dataframe\n",
    "city_list = []\n",
    "temps = []\n",
    "humidity = []\n",
    "clouds = []\n",
    "winds = []\n",
    "lats = []\n",
    "lngs = []\n",
    "countries = []\n",
    "date = []\n",
    "\n",
    "# Set url and units\n",
    "units = 'imperial'\n",
    "base_url = f'http://api.openweathermap.org/data/2.5/weather?appid={api_key}&units={units}&q='\n",
    "# Find the main keys of the API\n",
    "test_response = requests.get(base_url + 'lima').json()\n",
    "test_response.keys()"
   ]
  },
  {
   "cell_type": "code",
   "execution_count": 4,
   "metadata": {},
   "outputs": [
    {
     "name": "stdout",
     "output_type": "stream",
     "text": [
      "Processing Record # : 1 of Set 1 | kavieng\n",
      "Processing Record # : 2 of Set 1 | aksu\n",
      "Processing Record # : 3 of Set 1 | bluff\n",
      "Processing Record # : 4 of Set 1 | ponta delgada\n",
      "Processing Record # : 5 of Set 1 | jamestown\n",
      "Processing Record # : 6 of Set 1 | vostok\n",
      "Processing Record # : 7 of Set 1 | puerto ayora\n",
      "Processing Record # : 8 of Set 1 | mount gambier\n",
      "Processing Record # : 9 of Set 1 | bengkulu\n",
      "City not found. Skipping request...\n",
      "Processing Record # : 10 of Set 1 | provideniya\n",
      "City not found. Skipping request...\n",
      "Processing Record # : 11 of Set 1 | mgandu\n",
      "Processing Record # : 12 of Set 1 | namibe\n",
      "Processing Record # : 13 of Set 1 | dickinson\n",
      "Processing Record # : 14 of Set 1 | komsomolskiy\n",
      "City not found. Skipping request...\n",
      "Processing Record # : 15 of Set 1 | njombe\n",
      "Processing Record # : 16 of Set 1 | bitung\n",
      "Processing Record # : 17 of Set 1 | marawi\n",
      "Processing Record # : 18 of Set 1 | mataura\n",
      "Processing Record # : 19 of Set 1 | ancud\n",
      "Processing Record # : 20 of Set 1 | rikitea\n",
      "Processing Record # : 21 of Set 1 | ganzhou\n",
      "City not found. Skipping request...\n",
      "Processing Record # : 22 of Set 1 | hammerfest\n",
      "Processing Record # : 23 of Set 1 | butembo\n",
      "Processing Record # : 24 of Set 1 | aljezur\n",
      "Processing Record # : 25 of Set 1 | khatanga\n",
      "Processing Record # : 26 of Set 1 | acapulco\n",
      "Processing Record # : 27 of Set 1 | punta arenas\n",
      "City not found. Skipping request...\n",
      "Processing Record # : 28 of Set 1 | sioux lookout\n",
      "Processing Record # : 29 of Set 1 | port lincoln\n",
      "Processing Record # : 30 of Set 1 | busselton\n",
      "Processing Record # : 31 of Set 1 | hermanus\n",
      "Processing Record # : 32 of Set 1 | eureka\n",
      "Processing Record # : 33 of Set 1 | cidreira\n",
      "City not found. Skipping request...\n",
      "Processing Record # : 34 of Set 1 | lyubymivka\n",
      "Processing Record # : 35 of Set 1 | saint-philippe\n",
      "Processing Record # : 36 of Set 1 | matara\n",
      "Processing Record # : 37 of Set 1 | hithadhoo\n",
      "Processing Record # : 38 of Set 1 | hobart\n",
      "Processing Record # : 39 of Set 1 | auki\n",
      "Processing Record # : 40 of Set 1 | rudnogorsk\n",
      "Processing Record # : 41 of Set 1 | kapaa\n",
      "Processing Record # : 42 of Set 1 | hofn\n",
      "Processing Record # : 43 of Set 1 | yellowknife\n",
      "Processing Record # : 44 of Set 1 | camopi\n",
      "Processing Record # : 45 of Set 1 | victoria\n",
      "Processing Record # : 46 of Set 1 | thompson\n",
      "Processing Record # : 47 of Set 1 | port elizabeth\n",
      "City not found. Skipping request...\n",
      "Processing Record # : 48 of Set 1 | qaanaaq\n",
      "Processing Record # : 49 of Set 1 | tevriz\n",
      "Processing Record # : 1 of Set 2 | minsk\n",
      "Processing Record # : 2 of Set 2 | ushuaia\n",
      "Processing Record # : 3 of Set 2 | ribeira grande\n",
      "Processing Record # : 4 of Set 2 | san vicente\n",
      "Processing Record # : 5 of Set 2 | cape town\n",
      "Processing Record # : 6 of Set 2 | vaini\n",
      "Processing Record # : 7 of Set 2 | korla\n",
      "Processing Record # : 8 of Set 2 | macenta\n",
      "Processing Record # : 9 of Set 2 | beyneu\n",
      "Processing Record # : 10 of Set 2 | bredasdorp\n",
      "Processing Record # : 11 of Set 2 | kalmunai\n",
      "Processing Record # : 12 of Set 2 | nizhniy odes\n",
      "City not found. Skipping request...\n",
      "Processing Record # : 13 of Set 2 | maba\n",
      "City not found. Skipping request...\n",
      "Processing Record # : 14 of Set 2 | hay river\n",
      "Processing Record # : 15 of Set 2 | leh\n",
      "Processing Record # : 16 of Set 2 | khorixas\n",
      "Processing Record # : 17 of Set 2 | brae\n",
      "Processing Record # : 18 of Set 2 | olafsvik\n",
      "Processing Record # : 19 of Set 2 | kahului\n",
      "City not found. Skipping request...\n",
      "Processing Record # : 20 of Set 2 | kamaishi\n",
      "City not found. Skipping request...\n",
      "Processing Record # : 21 of Set 2 | mercedes\n",
      "Processing Record # : 22 of Set 2 | hilo\n",
      "Processing Record # : 23 of Set 2 | cheyenne\n",
      "Processing Record # : 24 of Set 2 | vanimo\n",
      "Processing Record # : 25 of Set 2 | shakhtinsk\n",
      "Processing Record # : 26 of Set 2 | sorland\n",
      "Processing Record # : 27 of Set 2 | albany\n",
      "Processing Record # : 28 of Set 2 | beringovskiy\n",
      "Processing Record # : 29 of Set 2 | half moon bay\n",
      "Processing Record # : 30 of Set 2 | nikolskoye\n",
      "Processing Record # : 31 of Set 2 | san ciro de acosta\n",
      "City not found. Skipping request...\n",
      "Processing Record # : 32 of Set 2 | saskylakh\n",
      "City not found. Skipping request...\n",
      "Processing Record # : 33 of Set 2 | kaitangata\n",
      "Processing Record # : 34 of Set 2 | tasiilaq\n",
      "Processing Record # : 35 of Set 2 | ostrovnoy\n",
      "Processing Record # : 36 of Set 2 | ifo\n",
      "Processing Record # : 37 of Set 2 | hovd\n",
      "Processing Record # : 38 of Set 2 | new norfolk\n",
      "Processing Record # : 39 of Set 2 | ketchikan\n",
      "Processing Record # : 40 of Set 2 | lebu\n",
      "Processing Record # : 41 of Set 2 | tanout\n",
      "Processing Record # : 42 of Set 2 | cotonou\n",
      "Processing Record # : 43 of Set 2 | mezen\n",
      "City not found. Skipping request...\n",
      "Processing Record # : 44 of Set 2 | richards bay\n",
      "Processing Record # : 45 of Set 2 | atuona\n",
      "Processing Record # : 46 of Set 2 | aklavik\n",
      "Processing Record # : 47 of Set 2 | saint-georges\n",
      "Processing Record # : 48 of Set 2 | krasnyy yar\n",
      "Processing Record # : 49 of Set 2 | pangnirtung\n",
      "Processing Record # : 1 of Set 3 | necochea\n",
      "City not found. Skipping request...\n",
      "Processing Record # : 2 of Set 3 | kerman\n",
      "Processing Record # : 3 of Set 3 | avarua\n",
      "Processing Record # : 4 of Set 3 | port alfred\n",
      "Processing Record # : 5 of Set 3 | sovetskaya gavan\n",
      "Processing Record # : 6 of Set 3 | caravelas\n",
      "Processing Record # : 7 of Set 3 | castro\n",
      "Processing Record # : 8 of Set 3 | san cristobal\n",
      "Processing Record # : 9 of Set 3 | nadym\n",
      "Processing Record # : 10 of Set 3 | axim\n",
      "Processing Record # : 11 of Set 3 | nuuk\n",
      "Processing Record # : 12 of Set 3 | tuktoyaktuk\n",
      "Processing Record # : 13 of Set 3 | whitehorse\n",
      "City not found. Skipping request...\n",
      "Processing Record # : 14 of Set 3 | olinda\n",
      "Processing Record # : 15 of Set 3 | benghazi\n",
      "Processing Record # : 16 of Set 3 | muros\n",
      "Processing Record # : 17 of Set 3 | skelleftea\n",
      "Processing Record # : 18 of Set 3 | banda aceh\n",
      "Processing Record # : 19 of Set 3 | kiunga\n",
      "Processing Record # : 20 of Set 3 | bethel\n",
      "Processing Record # : 21 of Set 3 | bireun\n",
      "Processing Record # : 22 of Set 3 | mys shmidta\n",
      "Processing Record # : 23 of Set 3 | yeppoon\n",
      "Processing Record # : 24 of Set 3 | mar del plata\n",
      "Processing Record # : 25 of Set 3 | waddan\n",
      "Processing Record # : 26 of Set 3 | fairbanks\n",
      "Processing Record # : 27 of Set 3 | alugan\n",
      "City not found. Skipping request...\n",
      "Processing Record # : 28 of Set 3 | dunedin\n",
      "City not found. Skipping request...\n",
      "Processing Record # : 29 of Set 3 | yashkul\n",
      "Processing Record # : 30 of Set 3 | port keats\n",
      "Processing Record # : 31 of Set 3 | cockburn town\n",
      "Processing Record # : 32 of Set 3 | birin\n",
      "Processing Record # : 33 of Set 3 | souillac\n",
      "Processing Record # : 34 of Set 3 | saint-augustin\n",
      "City not found. Skipping request...\n",
      "Processing Record # : 35 of Set 3 | zandvoort\n",
      "Processing Record # : 36 of Set 3 | podporozhye\n",
      "Processing Record # : 37 of Set 3 | arman\n",
      "City not found. Skipping request...\n",
      "Processing Record # : 38 of Set 3 | mirnyy\n",
      "City not found. Skipping request...\n",
      "Processing Record # : 39 of Set 3 | anito\n",
      "Processing Record # : 40 of Set 3 | east london\n",
      "Processing Record # : 41 of Set 3 | kapoeta\n",
      "Processing Record # : 42 of Set 3 | lata\n",
      "Processing Record # : 43 of Set 3 | torbay\n",
      "Processing Record # : 44 of Set 3 | leningradskiy\n",
      "Processing Record # : 45 of Set 3 | dikson\n",
      "Processing Record # : 46 of Set 3 | aquiraz\n",
      "Processing Record # : 47 of Set 3 | comodoro rivadavia\n",
      "City not found. Skipping request...\n",
      "Processing Record # : 48 of Set 3 | payo\n",
      "Processing Record # : 49 of Set 3 | airai\n",
      "Processing Record # : 1 of Set 4 | vila franca do campo\n",
      "City not found. Skipping request...\n",
      "Processing Record # : 2 of Set 4 | katherine\n",
      "Processing Record # : 3 of Set 4 | isangel\n",
      "Processing Record # : 4 of Set 4 | vila velha\n",
      "Processing Record # : 5 of Set 4 | esperance\n",
      "City not found. Skipping request...\n",
      "Processing Record # : 6 of Set 4 | pilot butte\n",
      "Processing Record # : 7 of Set 4 | sarkand\n",
      "Processing Record # : 8 of Set 4 | kuusamo\n",
      "Processing Record # : 9 of Set 4 | camacha\n",
      "Processing Record # : 10 of Set 4 | norman wells\n",
      "Processing Record # : 11 of Set 4 | lamar\n",
      "Processing Record # : 12 of Set 4 | qaqortoq\n",
      "Processing Record # : 13 of Set 4 | toamasina\n",
      "Processing Record # : 14 of Set 4 | klaksvik\n",
      "Processing Record # : 15 of Set 4 | kodiak\n",
      "Processing Record # : 16 of Set 4 | havre-saint-pierre\n"
     ]
    },
    {
     "name": "stdout",
     "output_type": "stream",
     "text": [
      "Processing Record # : 17 of Set 4 | grindavik\n",
      "Processing Record # : 18 of Set 4 | halifax\n",
      "Processing Record # : 19 of Set 4 | colatina\n",
      "Processing Record # : 20 of Set 4 | longyearbyen\n",
      "Processing Record # : 21 of Set 4 | chuy\n",
      "Processing Record # : 22 of Set 4 | glenwood springs\n",
      "Processing Record # : 23 of Set 4 | arlit\n",
      "Processing Record # : 24 of Set 4 | goderich\n",
      "Processing Record # : 25 of Set 4 | amudat\n",
      "Processing Record # : 26 of Set 4 | katsuura\n",
      "City not found. Skipping request...\n",
      "Processing Record # : 27 of Set 4 | coquimbo\n",
      "Processing Record # : 28 of Set 4 | nemuro\n",
      "Processing Record # : 29 of Set 4 | lompoc\n",
      "Processing Record # : 30 of Set 4 | vincennes\n",
      "Processing Record # : 31 of Set 4 | poum\n",
      "Processing Record # : 32 of Set 4 | rorvik\n",
      "City not found. Skipping request...\n",
      "City not found. Skipping request...\n",
      "Processing Record # : 33 of Set 4 | scottsbluff\n",
      "Processing Record # : 34 of Set 4 | rawson\n",
      "Processing Record # : 35 of Set 4 | horsham\n",
      "Processing Record # : 36 of Set 4 | inongo\n",
      "Processing Record # : 37 of Set 4 | mumford\n",
      "Processing Record # : 38 of Set 4 | sambava\n",
      "City not found. Skipping request...\n",
      "Processing Record # : 39 of Set 4 | dingle\n",
      "Processing Record # : 40 of Set 4 | larap\n",
      "Processing Record # : 41 of Set 4 | praia da vitoria\n",
      "Processing Record # : 42 of Set 4 | wyndham\n",
      "Processing Record # : 43 of Set 4 | zhezkazgan\n",
      "Processing Record # : 44 of Set 4 | marsh harbour\n",
      "Processing Record # : 45 of Set 4 | zima\n",
      "Processing Record # : 46 of Set 4 | luau\n",
      "Processing Record # : 47 of Set 4 | chik\n",
      "Processing Record # : 48 of Set 4 | vestmanna\n",
      "Processing Record # : 49 of Set 4 | nishihara\n",
      "Processing Record # : 1 of Set 5 | clyde river\n",
      "Processing Record # : 2 of Set 5 | lorengau\n",
      "Processing Record # : 3 of Set 5 | north augusta\n",
      "Processing Record # : 4 of Set 5 | arraial do cabo\n",
      "Processing Record # : 5 of Set 5 | touros\n",
      "Processing Record # : 6 of Set 5 | winneba\n",
      "Processing Record # : 7 of Set 5 | paamiut\n",
      "Processing Record # : 8 of Set 5 | sal rei\n",
      "Processing Record # : 9 of Set 5 | portland\n",
      "Processing Record # : 10 of Set 5 | karatau\n",
      "Processing Record # : 11 of Set 5 | north bend\n",
      "Processing Record # : 12 of Set 5 | fernie\n",
      "Processing Record # : 13 of Set 5 | minsk mazowiecki\n",
      "Processing Record # : 14 of Set 5 | port augusta\n",
      "Processing Record # : 15 of Set 5 | krasnoselkup\n",
      "City not found. Skipping request...\n",
      "Processing Record # : 16 of Set 5 | abu samrah\n",
      "Processing Record # : 17 of Set 5 | silver city\n",
      "Processing Record # : 18 of Set 5 | ballina\n",
      "Processing Record # : 19 of Set 5 | nanortalik\n",
      "Processing Record # : 20 of Set 5 | inhambane\n",
      "Processing Record # : 21 of Set 5 | angren\n",
      "Processing Record # : 22 of Set 5 | mahebourg\n",
      "Processing Record # : 23 of Set 5 | sooke\n",
      "City not found. Skipping request...\n",
      "Processing Record # : 24 of Set 5 | clarence town\n",
      "Processing Record # : 25 of Set 5 | chicama\n",
      "Processing Record # : 26 of Set 5 | chupaca\n",
      "Processing Record # : 27 of Set 5 | basco\n",
      "Processing Record # : 28 of Set 5 | sao joao da barra\n",
      "Processing Record # : 29 of Set 5 | san pedro\n",
      "City not found. Skipping request...\n",
      "Processing Record # : 30 of Set 5 | barrow\n",
      "Processing Record # : 31 of Set 5 | bodden town\n",
      "City not found. Skipping request...\n",
      "Processing Record # : 32 of Set 5 | praia\n",
      "Processing Record # : 33 of Set 5 | talnakh\n",
      "Processing Record # : 34 of Set 5 | garissa\n",
      "Processing Record # : 35 of Set 5 | grand river south east\n",
      "Processing Record # : 36 of Set 5 | ponta do sol\n",
      "Processing Record # : 37 of Set 5 | marsa matruh\n",
      "Processing Record # : 38 of Set 5 | buta\n",
      "Processing Record # : 39 of Set 5 | laela\n",
      "Processing Record # : 40 of Set 5 | margate\n",
      "Processing Record # : 41 of Set 5 | crateus\n",
      "Processing Record # : 42 of Set 5 | alexandria\n",
      "City not found. Skipping request...\n",
      "Processing Record # : 43 of Set 5 | vao\n",
      "Processing Record # : 44 of Set 5 | manasa\n",
      "Processing Record # : 45 of Set 5 | sept-iles\n",
      "Processing Record # : 46 of Set 5 | kulhudhuffushi\n",
      "Processing Record # : 47 of Set 5 | sibu\n",
      "Processing Record # : 48 of Set 5 | lusambo\n",
      "Processing Record # : 49 of Set 5 | trofors\n",
      "Processing Record # : 1 of Set 6 | chegdomyn\n",
      "Processing Record # : 2 of Set 6 | mananara\n",
      "Processing Record # : 3 of Set 6 | ransang\n",
      "Processing Record # : 4 of Set 6 | espanola\n",
      "City not found. Skipping request...\n",
      "Processing Record # : 5 of Set 6 | akureyri\n",
      "Processing Record # : 6 of Set 6 | gravdal\n",
      "Processing Record # : 7 of Set 6 | zhanakorgan\n",
      "Processing Record # : 8 of Set 6 | mugur-aksy\n",
      "City not found. Skipping request...\n",
      "Processing Record # : 9 of Set 6 | naze\n",
      "Processing Record # : 10 of Set 6 | kieta\n",
      "Processing Record # : 11 of Set 6 | west odessa\n",
      "Processing Record # : 12 of Set 6 | port elgin\n",
      "Processing Record # : 13 of Set 6 | port blair\n",
      "Processing Record # : 14 of Set 6 | fuzhou\n",
      "City not found. Skipping request...\n",
      "Processing Record # : 15 of Set 6 | bilibino\n",
      "Processing Record # : 16 of Set 6 | bezhta\n",
      "Processing Record # : 17 of Set 6 | codrington\n",
      "Processing Record # : 18 of Set 6 | gizo\n",
      "Processing Record # : 19 of Set 6 | ahipara\n",
      "Processing Record # : 20 of Set 6 | fortuna\n",
      "Processing Record # : 21 of Set 6 | virginia beach\n",
      "Processing Record # : 22 of Set 6 | iqaluit\n",
      "Processing Record # : 23 of Set 6 | beloha\n",
      "Processing Record # : 24 of Set 6 | tual\n",
      "Processing Record # : 25 of Set 6 | zaria\n",
      "Processing Record # : 26 of Set 6 | berlevag\n",
      "Processing Record # : 27 of Set 6 | saint-denis\n",
      "Processing Record # : 28 of Set 6 | kruisfontein\n",
      "Processing Record # : 29 of Set 6 | pombas\n",
      "Processing Record # : 30 of Set 6 | wajir\n",
      "Processing Record # : 31 of Set 6 | cabedelo\n",
      "Processing Record # : 32 of Set 6 | tchibanga\n",
      "Processing Record # : 33 of Set 6 | petukhovo\n",
      "City not found. Skipping request...\n",
      "Processing Record # : 34 of Set 6 | port hedland\n",
      "Processing Record # : 35 of Set 6 | luderitz\n",
      "Processing Record # : 36 of Set 6 | heihe\n",
      "Processing Record # : 37 of Set 6 | bambous virieux\n",
      "Processing Record # : 38 of Set 6 | whitianga\n",
      "Processing Record # : 39 of Set 6 | lodja\n",
      "Processing Record # : 40 of Set 6 | starychi\n",
      "Processing Record # : 41 of Set 6 | severo-kurilsk\n",
      "Processing Record # : 42 of Set 6 | lianzhou\n",
      "Processing Record # : 43 of Set 6 | sobolevo\n",
      "Processing Record # : 44 of Set 6 | piacabucu\n",
      "Processing Record # : 45 of Set 6 | kefamenanu\n",
      "Processing Record # : 46 of Set 6 | gat\n",
      "Processing Record # : 47 of Set 6 | kontagora\n",
      "Processing Record # : 48 of Set 6 | port hawkesbury\n",
      "Processing Record # : 49 of Set 6 | hobyo\n",
      "Processing Record # : 1 of Set 7 | chokurdakh\n",
      "Processing Record # : 2 of Set 7 | shingu\n",
      "City not found. Skipping request...\n",
      "Processing Record # : 3 of Set 7 | pacific grove\n",
      "Processing Record # : 4 of Set 7 | butaritari\n",
      "Processing Record # : 5 of Set 7 | madaoua\n",
      "Processing Record # : 6 of Set 7 | egvekinot\n",
      "Processing Record # : 7 of Set 7 | solntsevo\n",
      "Processing Record # : 8 of Set 7 | mugumu\n",
      "Processing Record # : 9 of Set 7 | askim\n",
      "Processing Record # : 10 of Set 7 | moron\n",
      "Processing Record # : 11 of Set 7 | bocholt\n",
      "Processing Record # : 12 of Set 7 | chunskiy\n",
      "Processing Record # : 13 of Set 7 | ixtapa\n",
      "Processing Record # : 14 of Set 7 | moussoro\n",
      "Processing Record # : 15 of Set 7 | smidovich\n",
      "Processing Record # : 16 of Set 7 | cabo san lucas\n",
      "Processing Record # : 17 of Set 7 | vvedenskoye\n",
      "Processing Record # : 18 of Set 7 | inhapim\n",
      "Processing Record # : 19 of Set 7 | padang\n",
      "Processing Record # : 20 of Set 7 | kentau\n",
      "Processing Record # : 21 of Set 7 | husavik\n",
      "Processing Record # : 22 of Set 7 | lannion\n",
      "Processing Record # : 23 of Set 7 | guerrero negro\n",
      "Processing Record # : 24 of Set 7 | samaipata\n",
      "Processing Record # : 25 of Set 7 | santa cruz\n",
      "Processing Record # : 26 of Set 7 | letka\n",
      "Processing Record # : 27 of Set 7 | pimentel\n",
      "Processing Record # : 28 of Set 7 | sirnak\n",
      "Processing Record # : 29 of Set 7 | tura\n",
      "Processing Record # : 30 of Set 7 | georgetown\n",
      "Processing Record # : 31 of Set 7 | labuhan\n",
      "Processing Record # : 32 of Set 7 | rocha\n",
      "Processing Record # : 33 of Set 7 | lichinga\n",
      "Processing Record # : 34 of Set 7 | ponorogo\n",
      "Processing Record # : 35 of Set 7 | meulaboh\n",
      "Processing Record # : 36 of Set 7 | ouadda\n",
      "Processing Record # : 37 of Set 7 | aginskoye\n",
      "Processing Record # : 38 of Set 7 | hervey bay\n",
      "Processing Record # : 39 of Set 7 | balakhta\n",
      "Processing Record # : 40 of Set 7 | belyy yar\n"
     ]
    },
    {
     "name": "stdout",
     "output_type": "stream",
     "text": [
      "Processing Record # : 41 of Set 7 | lagoa\n",
      "Processing Record # : 42 of Set 7 | ust-ishim\n",
      "City not found. Skipping request...\n",
      "Processing Record # : 43 of Set 7 | charyshskoye\n",
      "Processing Record # : 44 of Set 7 | jalu\n",
      "Processing Record # : 45 of Set 7 | kavaratti\n",
      "Processing Record # : 46 of Set 7 | araouane\n",
      "City not found. Skipping request...\n",
      "Processing Record # : 47 of Set 7 | mareeba\n",
      "Processing Record # : 48 of Set 7 | zhigansk\n",
      "Processing Record # : 49 of Set 7 | osakarovka\n",
      "Processing Record # : 1 of Set 8 | hasaki\n",
      "Processing Record # : 2 of Set 8 | chiredzi\n",
      "Processing Record # : 3 of Set 8 | zheleznodorozhnyy\n",
      "City not found. Skipping request...\n",
      "Processing Record # : 4 of Set 8 | port hardy\n",
      "Processing Record # : 5 of Set 8 | trebinje\n",
      "Processing Record # : 6 of Set 8 | upernavik\n",
      "Processing Record # : 7 of Set 8 | taozhuang\n",
      "Processing Record # : 8 of Set 8 | harper\n",
      "Processing Record # : 9 of Set 8 | merauke\n",
      "Processing Record # : 10 of Set 8 | corner brook\n",
      "Processing Record # : 11 of Set 8 | birao\n",
      "Processing Record # : 12 of Set 8 | fort-shevchenko\n",
      "Processing Record # : 13 of Set 8 | vardo\n",
      "Processing Record # : 14 of Set 8 | akyab\n",
      "Processing Record # : 15 of Set 8 | sibolga\n",
      "Processing Record # : 16 of Set 8 | chimbote\n",
      "City not found. Skipping request...\n",
      "City not found. Skipping request...\n",
      "Processing Record # : 17 of Set 8 | flin flon\n",
      "City not found. Skipping request...\n",
      "City not found. Skipping request...\n",
      "Processing Record # : 18 of Set 8 | corrales\n",
      "Processing Record # : 19 of Set 8 | sao filipe\n",
      "Processing Record # : 20 of Set 8 | fredericton\n",
      "Processing Record # : 21 of Set 8 | port-gentil\n",
      "Processing Record # : 22 of Set 8 | formosa do rio preto\n",
      "Processing Record # : 23 of Set 8 | pevek\n",
      "Processing Record # : 24 of Set 8 | pierre\n",
      "Processing Record # : 25 of Set 8 | buraydah\n",
      "Processing Record # : 26 of Set 8 | sant feliu de guixols\n",
      "Processing Record # : 27 of Set 8 | sagone\n",
      "Processing Record # : 28 of Set 8 | kang\n",
      "Processing Record # : 29 of Set 8 | atar\n",
      "City not found. Skipping request...\n",
      "Processing Record # : 30 of Set 8 | narsaq\n",
      "City not found. Skipping request...\n",
      "Processing Record # : 31 of Set 8 | yulara\n",
      "Processing Record # : 32 of Set 8 | geraldton\n",
      "Processing Record # : 33 of Set 8 | xian\n",
      "Processing Record # : 34 of Set 8 | houma\n",
      "Processing Record # : 35 of Set 8 | keflavik\n",
      "Processing Record # : 36 of Set 8 | northam\n",
      "Processing Record # : 37 of Set 8 | moose factory\n",
      "Processing Record # : 38 of Set 8 | lufilufi\n",
      "Processing Record # : 39 of Set 8 | atambua\n",
      "Processing Record # : 40 of Set 8 | jaisalmer\n",
      "Processing Record # : 41 of Set 8 | puerto del rosario\n",
      "Processing Record # : 42 of Set 8 | ondjiva\n",
      "Processing Record # : 43 of Set 8 | yakeshi\n",
      "Processing Record # : 44 of Set 8 | carnarvon\n",
      "Processing Record # : 45 of Set 8 | salihorsk\n",
      "Processing Record # : 46 of Set 8 | guanica\n",
      "Processing Record # : 47 of Set 8 | ratnagiri\n",
      "Processing Record # : 48 of Set 8 | acajutla\n",
      "Processing Record # : 49 of Set 8 | warri\n",
      "Processing Record # : 1 of Set 9 | mabay\n",
      "City not found. Skipping request...\n",
      "Processing Record # : 2 of Set 9 | novo horizonte\n",
      "Processing Record # : 3 of Set 9 | boissevain\n",
      "City not found. Skipping request...\n",
      "Processing Record # : 4 of Set 9 | fort nelson\n",
      "City not found. Skipping request...\n",
      "Processing Record # : 5 of Set 9 | bambanglipuro\n",
      "Processing Record # : 6 of Set 9 | dwarka\n",
      "Processing Record # : 7 of Set 9 | mountain home\n",
      "Processing Record # : 8 of Set 9 | anadyr\n",
      "Processing Record # : 9 of Set 9 | cali\n",
      "Processing Record # : 10 of Set 9 | svetlogorsk\n",
      "Processing Record # : 11 of Set 9 | mount isa\n",
      "Processing Record # : 12 of Set 9 | skjervoy\n",
      "City not found. Skipping request...\n",
      "Processing Record # : 13 of Set 9 | roma\n",
      "Processing Record # : 14 of Set 9 | abha\n",
      "Processing Record # : 15 of Set 9 | encruzilhada do sul\n",
      "Processing Record # : 16 of Set 9 | mitsamiouli\n",
      "Processing Record # : 17 of Set 9 | okhotsk\n",
      "Processing Record # : 18 of Set 9 | kerchevskiy\n",
      "Processing Record # : 19 of Set 9 | marfino\n",
      "Processing Record # : 20 of Set 9 | bhatkal\n",
      "Processing Record # : 21 of Set 9 | black river\n",
      "Processing Record # : 22 of Set 9 | tahe\n",
      "Processing Record # : 23 of Set 9 | varadero\n",
      "City not found. Skipping request...\n",
      "Processing Record # : 24 of Set 9 | mackay\n",
      "Processing Record # : 25 of Set 9 | concarneau\n",
      "Processing Record # : 26 of Set 9 | bandarbeyla\n",
      "Processing Record # : 27 of Set 9 | alice springs\n",
      "Processing Record # : 28 of Set 9 | faanui\n",
      "Processing Record # : 29 of Set 9 | sola\n",
      "City not found. Skipping request...\n",
      "Processing Record # : 30 of Set 9 | waspan\n",
      "Processing Record # : 31 of Set 9 | panaba\n",
      "Processing Record # : 32 of Set 9 | muroto\n",
      "Processing Record # : 33 of Set 9 | srednekolymsk\n",
      "Processing Record # : 34 of Set 9 | kihei\n",
      "Processing Record # : 35 of Set 9 | singkawang\n",
      "Processing Record # : 36 of Set 9 | kaeo\n",
      "Processing Record # : 37 of Set 9 | bubaque\n",
      "Processing Record # : 38 of Set 9 | flagstaff\n",
      "Processing Record # : 39 of Set 9 | sterling\n",
      "City not found. Skipping request...\n",
      "City not found. Skipping request...\n",
      "Processing Record # : 40 of Set 9 | laguna\n",
      "Processing Record # : 41 of Set 9 | buala\n",
      "City not found. Skipping request...\n",
      "Processing Record # : 42 of Set 9 | san carlos de bariloche\n",
      "Processing Record # : 43 of Set 9 | ulverstone\n",
      "Processing Record # : 44 of Set 9 | maple creek\n",
      "Processing Record # : 45 of Set 9 | sarkikaraagac\n",
      "City not found. Skipping request...\n",
      "Processing Record # : 46 of Set 9 | asau\n",
      "Processing Record # : 47 of Set 9 | kaduqli\n",
      "Processing Record # : 48 of Set 9 | tabou\n",
      "Processing Record # : 49 of Set 9 | launceston\n",
      "Processing Record # : 1 of Set 10 | palmerston\n",
      "Processing Record # : 2 of Set 10 | novikovo\n",
      "Processing Record # : 3 of Set 10 | salinopolis\n",
      "Processing Record # : 4 of Set 10 | juneau\n",
      "Processing Record # : 5 of Set 10 | chubbuck\n",
      "City not found. Skipping request...\n",
      "City not found. Skipping request...\n",
      "Processing Record # : 6 of Set 10 | cootamundra\n",
      "Processing Record # : 7 of Set 10 | saldanha\n",
      "Processing Record # : 8 of Set 10 | busok\n",
      "Processing Record # : 9 of Set 10 | broome\n",
      "Processing Record # : 10 of Set 10 | cochrane\n",
      "Processing Record # : 11 of Set 10 | cayenne\n",
      "Processing Record # : 12 of Set 10 | maniitsoq\n",
      "City not found. Skipping request...\n",
      "Processing Record # : 13 of Set 10 | chara\n",
      "Processing Record # : 14 of Set 10 | peace river\n",
      "Processing Record # : 15 of Set 10 | maxixe\n",
      "Processing Record # : 16 of Set 10 | miranda de ebro\n",
      "Processing Record # : 17 of Set 10 | nome\n",
      "Processing Record # : 18 of Set 10 | kropotkin\n",
      "Processing Record # : 19 of Set 10 | alofi\n",
      "Processing Record # : 20 of Set 10 | kommunarka\n",
      "Processing Record # : 21 of Set 10 | kashan\n",
      "Processing Record # : 22 of Set 10 | yoichi\n",
      "Processing Record # : 23 of Set 10 | bangkalan\n",
      "Processing Record # : 24 of Set 10 | omsukchan\n",
      "Processing Record # : 25 of Set 10 | oriximina\n",
      "City not found. Skipping request...\n",
      "Processing Record # : 26 of Set 10 | san patricio\n",
      "Processing Record # : 27 of Set 10 | coahuayana\n",
      "Processing Record # : 28 of Set 10 | ilulissat\n",
      "City not found. Skipping request...\n",
      "Processing Record # : 29 of Set 10 | turukhansk\n",
      "Processing Record # : 30 of Set 10 | malanje\n",
      "Processing Record # : 31 of Set 10 | vengerovo\n",
      "Processing Record # : 32 of Set 10 | najran\n",
      "City not found. Skipping request...\n",
      "Processing Record # : 33 of Set 10 | griffith\n",
      "City not found. Skipping request...\n",
      "Processing Record # : 34 of Set 10 | rundu\n",
      "Processing Record # : 35 of Set 10 | wawa\n",
      "Processing Record # : 36 of Set 10 | camoapa\n",
      "City not found. Skipping request...\n",
      "Processing Record # : 37 of Set 10 | ruhengeri\n",
      "Processing Record # : 38 of Set 10 | montevideo\n",
      "Processing Record # : 39 of Set 10 | gopamau\n",
      "Processing Record # : 40 of Set 10 | evensk\n",
      "Processing Record # : 41 of Set 10 | fare\n",
      "Processing Record # : 42 of Set 10 | wakefield\n",
      "Processing Record # : 43 of Set 10 | gopalpur\n",
      "Processing Record # : 44 of Set 10 | porto novo\n",
      "Processing Record # : 45 of Set 10 | santiago de cao\n",
      "Processing Record # : 46 of Set 10 | gorontalo\n",
      "Processing Record # : 47 of Set 10 | lac du bonnet\n",
      "Processing Record # : 48 of Set 10 | buin\n",
      "City not found. Skipping request...\n",
      "Processing Record # : 49 of Set 10 | datong\n",
      "Processing Record # : 1 of Set 11 | moree\n",
      "Processing Record # : 2 of Set 11 | luancheng\n"
     ]
    },
    {
     "name": "stdout",
     "output_type": "stream",
     "text": [
      "Processing Record # : 3 of Set 11 | dongsheng\n",
      "Processing Record # : 4 of Set 11 | kattivakkam\n",
      "Processing Record # : 5 of Set 11 | prince rupert\n",
      "Processing Record # : 6 of Set 11 | nelson bay\n",
      "Processing Record # : 7 of Set 11 | san andres\n",
      "Processing Record # : 8 of Set 11 | krasnoturinsk\n",
      "Processing Record # : 9 of Set 11 | dangriga\n",
      "Processing Record # : 10 of Set 11 | berbera\n",
      "Processing Record # : 11 of Set 11 | barraute\n",
      "Processing Record # : 12 of Set 11 | esna\n",
      "Processing Record # : 13 of Set 11 | yerkoy\n",
      "Processing Record # : 14 of Set 11 | ringebu\n",
      "Processing Record # : 15 of Set 11 | dali\n",
      "Processing Record # : 16 of Set 11 | umea\n",
      "Processing Record # : 17 of Set 11 | mahanje\n",
      "Processing Record # : 18 of Set 11 | botou\n",
      "Processing Record # : 19 of Set 11 | byron bay\n",
      "Processing Record # : 20 of Set 11 | joshimath\n",
      "Processing Record # : 21 of Set 11 | dzaoudzi\n",
      "Processing Record # : 22 of Set 11 | taganak\n",
      "Processing Record # : 23 of Set 11 | lewistown\n",
      "Processing Record # : 24 of Set 11 | pacifica\n",
      "Processing Record # : 25 of Set 11 | vyartsilya\n",
      "Processing Record # : 26 of Set 11 | alice\n",
      "Processing Record # : 27 of Set 11 | kathu\n",
      "Processing Record # : 28 of Set 11 | pasni\n",
      "Processing Record # : 29 of Set 11 | aden\n",
      "Processing Record # : 30 of Set 11 | viedma\n",
      "Processing Record # : 31 of Set 11 | wuwei\n",
      "Processing Record # : 32 of Set 11 | cutro\n",
      "Processing Record # : 33 of Set 11 | pangoa\n",
      "Processing Record # : 34 of Set 11 | katesh\n",
      "Processing Record # : 35 of Set 11 | inirida\n",
      "Processing Record # : 36 of Set 11 | vila\n",
      "Processing Record # : 37 of Set 11 | beni\n",
      "Processing Record # : 38 of Set 11 | isiolo\n",
      "Processing Record # : 39 of Set 11 | jiayuguan\n",
      "Processing Record # : 40 of Set 11 | hami\n",
      "Processing Record # : 41 of Set 11 | varena\n",
      "Processing Record # : 42 of Set 11 | lalitpur\n",
      "Processing Record # : 43 of Set 11 | zhuhai\n",
      "Processing Record # : 44 of Set 11 | octeville\n",
      "Processing Record # : 45 of Set 11 | rio sereno\n",
      "City not found. Skipping request...\n",
      "Processing Record # : 46 of Set 11 | ternate\n",
      "Processing Record # : 47 of Set 11 | miguel hidalgo\n",
      "Processing Record # : 48 of Set 11 | gigmoto\n",
      "Processing Record # : 49 of Set 11 | netishyn\n",
      "Processing Record # : 1 of Set 12 | niksar\n",
      "City not found. Skipping request...\n",
      "Processing Record # : 2 of Set 12 | donskoye\n",
      "Processing Record # : 3 of Set 12 | pisco\n",
      "Processing Record # : 4 of Set 12 | hendek\n",
      "Processing Record # : 5 of Set 12 | lichtenvoorde\n",
      "Processing Record # : 6 of Set 12 | tiksi\n",
      "Processing Record # : 7 of Set 12 | japura\n",
      "Processing Record # : 8 of Set 12 | aswan\n",
      "Processing Record # : 9 of Set 12 | celestun\n",
      "Processing Record # : 10 of Set 12 | hamilton\n",
      "Processing Record # : 11 of Set 12 | samarai\n",
      "Processing Record # : 12 of Set 12 | anzio\n",
      "Processing Record # : 13 of Set 12 | ulaanbaatar\n",
      "Processing Record # : 14 of Set 12 | manokwari\n",
      "Processing Record # : 15 of Set 12 | peniche\n",
      "City not found. Skipping request...\n",
      "Processing Record # : 16 of Set 12 | duekoue\n",
      "City not found. Skipping request...\n",
      "Processing Record # : 17 of Set 12 | opuwo\n",
      "Processing Record # : 18 of Set 12 | nyirpazony\n",
      "Processing Record # : 19 of Set 12 | batagay-alyta\n",
      "Processing Record # : 20 of Set 12 | iwanai\n",
      "Processing Record # : 21 of Set 12 | kanniyakumari\n",
      "Processing Record # : 22 of Set 12 | flinders\n",
      "Processing Record # : 23 of Set 12 | hit\n",
      "Processing Record # : 24 of Set 12 | klyuchi\n",
      "Processing Record # : 25 of Set 12 | benguela\n",
      "Processing Record # : 26 of Set 12 | pedraza\n",
      "Processing Record # : 27 of Set 12 | colares\n",
      "Processing Record # : 28 of Set 12 | teya\n",
      "Processing Record # : 29 of Set 12 | karasjok\n",
      "Processing Record # : 30 of Set 12 | birjand\n",
      "Processing Record # : 31 of Set 12 | ilorin\n",
      "Processing Record # : 32 of Set 12 | nizwa\n",
      "Processing Record # : 33 of Set 12 | lokosovo\n",
      "Processing Record # : 34 of Set 12 | moa\n",
      "Processing Record # : 35 of Set 12 | arroyo\n",
      "Processing Record # : 36 of Set 12 | lewiston\n",
      "Processing Record # : 37 of Set 12 | iberia\n",
      "Processing Record # : 38 of Set 12 | cooma\n",
      "Processing Record # : 39 of Set 12 | kouango\n",
      "Processing Record # : 40 of Set 12 | suntar\n",
      "Processing Record # : 41 of Set 12 | providencia\n",
      "Processing Record # : 42 of Set 12 | canto do buriti\n",
      "Processing Record # : 43 of Set 12 | tilichiki\n",
      "Processing Record # : 44 of Set 12 | dmitriyevka\n",
      "Processing Record # : 45 of Set 12 | mayo\n",
      "------------------------------\n",
      "Data API Response Complete\n",
      "------------------------------\n"
     ]
    }
   ],
   "source": [
    "# Set counters\n",
    "counter = 0\n",
    "set_counter = 1\n",
    "\n",
    "for city in cities:\n",
    "    try:\n",
    "        response = requests.get(base_url + city.replace(\" \",\"&\")).json()\n",
    "        clouds.append(response['clouds']['all'])\n",
    "        countries.append(response['sys']['country'])\n",
    "        humidity.append(response['main']['humidity'])\n",
    "        lats.append(response['coord']['lat'])\n",
    "        lngs.append(response['coord']['lon'])\n",
    "        temps.append(response['main']['temp_max'])\n",
    "        winds.append(response['wind']['speed'])\n",
    "        date.append(response['dt'])\n",
    "        if counter > 48:\n",
    "            counter = 1\n",
    "            set_counter += 1\n",
    "            city_list.append(city)\n",
    "        else:\n",
    "            counter += 1\n",
    "            city_list.append(city)\n",
    "        print(f\"Processing Record # : {counter} of Set {set_counter} | {city}\")\n",
    "    except:\n",
    "        print(\"City not found. Skipping request...\")\n",
    "print(\"------------------------------\\nData API Response Complete\\n------------------------------\")"
   ]
  },
  {
   "cell_type": "markdown",
   "metadata": {},
   "source": [
    "### Convert Raw Data to DataFrame\n",
    "* Export the city data into a .csv.\n",
    "* Display the DataFrame"
   ]
  },
  {
   "cell_type": "code",
   "execution_count": 5,
   "metadata": {},
   "outputs": [
    {
     "data": {
      "text/plain": [
       "City          584\n",
       "Lat           584\n",
       "Lng           584\n",
       "Max Temp      584\n",
       "Humidity      584\n",
       "Cloudiness    584\n",
       "Wind Speed    584\n",
       "Country       584\n",
       "Date          584\n",
       "dtype: int64"
      ]
     },
     "execution_count": 5,
     "metadata": {},
     "output_type": "execute_result"
    }
   ],
   "source": [
    "# create a dictionary for establishing dataframe\n",
    "weather_dict = {\n",
    "    \"City\":city_list,\n",
    "    \"Lat\":lats,\n",
    "    \"Lng\":lngs,\n",
    "    \"Max Temp\":temps,\n",
    "    \"Humidity\":humidity,\n",
    "    \"Cloudiness\":clouds,\n",
    "    \"Wind Speed\":winds,\n",
    "    \"Country\":countries,\n",
    "    \"Date\":date,\n",
    "}\n",
    "\n",
    "weather_df = pd.DataFrame(weather_dict)\n",
    "# Making sure there are no errors in the dataframe\n",
    "weather_df.count()"
   ]
  },
  {
   "cell_type": "code",
   "execution_count": 67,
   "metadata": {},
   "outputs": [
    {
     "data": {
      "text/html": [
       "<div>\n",
       "<style scoped>\n",
       "    .dataframe tbody tr th:only-of-type {\n",
       "        vertical-align: middle;\n",
       "    }\n",
       "\n",
       "    .dataframe tbody tr th {\n",
       "        vertical-align: top;\n",
       "    }\n",
       "\n",
       "    .dataframe thead th {\n",
       "        text-align: right;\n",
       "    }\n",
       "</style>\n",
       "<table border=\"1\" class=\"dataframe\">\n",
       "  <thead>\n",
       "    <tr style=\"text-align: right;\">\n",
       "      <th></th>\n",
       "      <th>City</th>\n",
       "      <th>Lat</th>\n",
       "      <th>Lng</th>\n",
       "      <th>Max Temp</th>\n",
       "      <th>Humidity</th>\n",
       "      <th>Cloudiness</th>\n",
       "      <th>Wind Speed</th>\n",
       "      <th>Country</th>\n",
       "      <th>Date</th>\n",
       "    </tr>\n",
       "  </thead>\n",
       "  <tbody>\n",
       "    <tr>\n",
       "      <th>0</th>\n",
       "      <td>kavieng</td>\n",
       "      <td>-2.5744</td>\n",
       "      <td>150.7967</td>\n",
       "      <td>81.16</td>\n",
       "      <td>76</td>\n",
       "      <td>71</td>\n",
       "      <td>7.49</td>\n",
       "      <td>PG</td>\n",
       "      <td>1615823932</td>\n",
       "    </tr>\n",
       "    <tr>\n",
       "      <th>1</th>\n",
       "      <td>aksu</td>\n",
       "      <td>41.1231</td>\n",
       "      <td>80.2644</td>\n",
       "      <td>58.01</td>\n",
       "      <td>28</td>\n",
       "      <td>100</td>\n",
       "      <td>14.79</td>\n",
       "      <td>CN</td>\n",
       "      <td>1615823932</td>\n",
       "    </tr>\n",
       "    <tr>\n",
       "      <th>2</th>\n",
       "      <td>bluff</td>\n",
       "      <td>-46.6000</td>\n",
       "      <td>168.3333</td>\n",
       "      <td>51.01</td>\n",
       "      <td>92</td>\n",
       "      <td>89</td>\n",
       "      <td>7.00</td>\n",
       "      <td>NZ</td>\n",
       "      <td>1615823932</td>\n",
       "    </tr>\n",
       "    <tr>\n",
       "      <th>3</th>\n",
       "      <td>ponta delgada</td>\n",
       "      <td>38.7333</td>\n",
       "      <td>-28.2667</td>\n",
       "      <td>62.60</td>\n",
       "      <td>88</td>\n",
       "      <td>40</td>\n",
       "      <td>9.22</td>\n",
       "      <td>PT</td>\n",
       "      <td>1615823933</td>\n",
       "    </tr>\n",
       "    <tr>\n",
       "      <th>4</th>\n",
       "      <td>jamestown</td>\n",
       "      <td>42.0970</td>\n",
       "      <td>-79.2353</td>\n",
       "      <td>28.99</td>\n",
       "      <td>35</td>\n",
       "      <td>1</td>\n",
       "      <td>10.31</td>\n",
       "      <td>US</td>\n",
       "      <td>1615823933</td>\n",
       "    </tr>\n",
       "  </tbody>\n",
       "</table>\n",
       "</div>"
      ],
      "text/plain": [
       "            City      Lat       Lng  Max Temp  Humidity  Cloudiness  \\\n",
       "0        kavieng  -2.5744  150.7967     81.16        76          71   \n",
       "1           aksu  41.1231   80.2644     58.01        28         100   \n",
       "2          bluff -46.6000  168.3333     51.01        92          89   \n",
       "3  ponta delgada  38.7333  -28.2667     62.60        88          40   \n",
       "4      jamestown  42.0970  -79.2353     28.99        35           1   \n",
       "\n",
       "   Wind Speed Country        Date  \n",
       "0        7.49      PG  1615823932  \n",
       "1       14.79      CN  1615823932  \n",
       "2        7.00      NZ  1615823932  \n",
       "3        9.22      PT  1615823933  \n",
       "4       10.31      US  1615823933  "
      ]
     },
     "execution_count": 67,
     "metadata": {},
     "output_type": "execute_result"
    }
   ],
   "source": [
    "# Save to csv\n",
    "weather_df.to_csv('../Resources/weather.csv',encoding = 'utf-8',index = False)\n",
    "\n",
    "# Display dataframe\n",
    "weather_df.head()"
   ]
  },
  {
   "cell_type": "markdown",
   "metadata": {},
   "source": [
    "## Inspect the data and remove the cities where the humidity > 100%.\n",
    "----\n",
    "Skip this step if there are no cities that have humidity > 100%. "
   ]
  },
  {
   "cell_type": "code",
   "execution_count": 20,
   "metadata": {},
   "outputs": [
    {
     "data": {
      "text/html": [
       "<div>\n",
       "<style scoped>\n",
       "    .dataframe tbody tr th:only-of-type {\n",
       "        vertical-align: middle;\n",
       "    }\n",
       "\n",
       "    .dataframe tbody tr th {\n",
       "        vertical-align: top;\n",
       "    }\n",
       "\n",
       "    .dataframe thead th {\n",
       "        text-align: right;\n",
       "    }\n",
       "</style>\n",
       "<table border=\"1\" class=\"dataframe\">\n",
       "  <thead>\n",
       "    <tr style=\"text-align: right;\">\n",
       "      <th></th>\n",
       "      <th>Lat</th>\n",
       "      <th>Lng</th>\n",
       "      <th>Max Temp</th>\n",
       "      <th>Humidity</th>\n",
       "      <th>Cloudiness</th>\n",
       "      <th>Wind Speed</th>\n",
       "      <th>Date</th>\n",
       "    </tr>\n",
       "  </thead>\n",
       "  <tbody>\n",
       "    <tr>\n",
       "      <th>count</th>\n",
       "      <td>584.000000</td>\n",
       "      <td>584.000000</td>\n",
       "      <td>584.000000</td>\n",
       "      <td>584.000000</td>\n",
       "      <td>584.000000</td>\n",
       "      <td>584.000000</td>\n",
       "      <td>5.840000e+02</td>\n",
       "    </tr>\n",
       "    <tr>\n",
       "      <th>mean</th>\n",
       "      <td>23.115967</td>\n",
       "      <td>20.946098</td>\n",
       "      <td>55.828082</td>\n",
       "      <td>67.796233</td>\n",
       "      <td>51.366438</td>\n",
       "      <td>8.396113</td>\n",
       "      <td>1.615824e+09</td>\n",
       "    </tr>\n",
       "    <tr>\n",
       "      <th>std</th>\n",
       "      <td>31.274205</td>\n",
       "      <td>84.862614</td>\n",
       "      <td>28.416430</td>\n",
       "      <td>23.388315</td>\n",
       "      <td>38.587353</td>\n",
       "      <td>6.147955</td>\n",
       "      <td>7.780208e+01</td>\n",
       "    </tr>\n",
       "    <tr>\n",
       "      <th>min</th>\n",
       "      <td>-54.800000</td>\n",
       "      <td>-179.166700</td>\n",
       "      <td>-31.200000</td>\n",
       "      <td>4.000000</td>\n",
       "      <td>0.000000</td>\n",
       "      <td>0.360000</td>\n",
       "      <td>1.615823e+09</td>\n",
       "    </tr>\n",
       "    <tr>\n",
       "      <th>25%</th>\n",
       "      <td>-1.968150</td>\n",
       "      <td>-47.663625</td>\n",
       "      <td>35.600000</td>\n",
       "      <td>54.000000</td>\n",
       "      <td>8.000000</td>\n",
       "      <td>4.000000</td>\n",
       "      <td>1.615824e+09</td>\n",
       "    </tr>\n",
       "    <tr>\n",
       "      <th>50%</th>\n",
       "      <td>28.059500</td>\n",
       "      <td>24.730700</td>\n",
       "      <td>62.600000</td>\n",
       "      <td>74.000000</td>\n",
       "      <td>54.000000</td>\n",
       "      <td>7.000000</td>\n",
       "      <td>1.615824e+09</td>\n",
       "    </tr>\n",
       "    <tr>\n",
       "      <th>75%</th>\n",
       "      <td>48.995175</td>\n",
       "      <td>86.606000</td>\n",
       "      <td>78.800000</td>\n",
       "      <td>86.000000</td>\n",
       "      <td>90.000000</td>\n",
       "      <td>11.192500</td>\n",
       "      <td>1.615824e+09</td>\n",
       "    </tr>\n",
       "    <tr>\n",
       "      <th>max</th>\n",
       "      <td>78.218600</td>\n",
       "      <td>179.316700</td>\n",
       "      <td>107.200000</td>\n",
       "      <td>100.000000</td>\n",
       "      <td>100.000000</td>\n",
       "      <td>52.930000</td>\n",
       "      <td>1.615824e+09</td>\n",
       "    </tr>\n",
       "  </tbody>\n",
       "</table>\n",
       "</div>"
      ],
      "text/plain": [
       "              Lat         Lng    Max Temp    Humidity  Cloudiness  Wind Speed  \\\n",
       "count  584.000000  584.000000  584.000000  584.000000  584.000000  584.000000   \n",
       "mean    23.115967   20.946098   55.828082   67.796233   51.366438    8.396113   \n",
       "std     31.274205   84.862614   28.416430   23.388315   38.587353    6.147955   \n",
       "min    -54.800000 -179.166700  -31.200000    4.000000    0.000000    0.360000   \n",
       "25%     -1.968150  -47.663625   35.600000   54.000000    8.000000    4.000000   \n",
       "50%     28.059500   24.730700   62.600000   74.000000   54.000000    7.000000   \n",
       "75%     48.995175   86.606000   78.800000   86.000000   90.000000   11.192500   \n",
       "max     78.218600  179.316700  107.200000  100.000000  100.000000   52.930000   \n",
       "\n",
       "               Date  \n",
       "count  5.840000e+02  \n",
       "mean   1.615824e+09  \n",
       "std    7.780208e+01  \n",
       "min    1.615823e+09  \n",
       "25%    1.615824e+09  \n",
       "50%    1.615824e+09  \n",
       "75%    1.615824e+09  \n",
       "max    1.615824e+09  "
      ]
     },
     "execution_count": 20,
     "metadata": {},
     "output_type": "execute_result"
    }
   ],
   "source": [
    "weather_df.describe()\n",
    "# No city has humidity over 100%"
   ]
  },
  {
   "cell_type": "markdown",
   "metadata": {},
   "source": [
    "## Plotting the Data\n",
    "* Use proper labeling of the plots using plot titles (including date of analysis) and axes labels.\n",
    "* Save the plotted figures as .pngs."
   ]
  },
  {
   "cell_type": "markdown",
   "metadata": {},
   "source": [
    "## Latitude vs. Temperature Plot"
   ]
  },
  {
   "cell_type": "code",
   "execution_count": 26,
   "metadata": {
    "scrolled": true
   },
   "outputs": [
    {
     "data": {
      "image/png": "[encoded data removed]",
      "text/plain": [
       "<Figure size 432x288 with 1 Axes>"
      ]
     },
     "metadata": {
      "needs_background": "light"
     },
     "output_type": "display_data"
    }
   ],
   "source": [
    "plt.scatter(weather_df[\"Lat\"], \n",
    "            weather_df[\"Max Temp\"],\n",
    "            edgecolor=\"black\",facecolors=\"skyblue\", linewidths=1, marker=\"o\", \n",
    "            alpha=0.8)\n",
    "\n",
    "# Incorporate the other graph properties\n",
    "plt.title(\"City Latitude vs. Max Temperature (%s)\" % time.strftime(\"%x\"))\n",
    "plt.ylabel(\"Max Temperature (F)\")\n",
    "plt.xlabel(\"Latitude\")\n",
    "plt.grid(True)\n",
    "\n",
    "# Save the figure\n",
    "plt.savefig(\"../Images/Latitude_Temperature.png\")"
   ]
  },
  {
   "cell_type": "markdown",
   "metadata": {},
   "source": [
    "***This scatter plot shows how the max temperature is affected as we move closer or farther away from the Equator. We can see that temperatures rise as we get closer to the Equator (0° latitude).***"
   ]
  },
  {
   "cell_type": "markdown",
   "metadata": {},
   "source": [
    "## Latitude vs. Humidity Plot"
   ]
  },
  {
   "cell_type": "code",
   "execution_count": 34,
   "metadata": {},
   "outputs": [
    {
     "data": {
      "image/png": "[encoded data removed]",
      "text/plain": [
       "<Figure size 432x288 with 1 Axes>"
      ]
     },
     "metadata": {
      "needs_background": "light"
     },
     "output_type": "display_data"
    }
   ],
   "source": [
    "plt.scatter(weather_df[\"Lat\"],weather_df[\"Humidity\"],\n",
    "            edgecolors=\"black\",facecolors=\"red\")\n",
    "plt.title(\"City Latitude vs. Humidity (%s)\" % time.strftime(\"%x\"))\n",
    "plt.xlabel(\"Latitude\")\n",
    "plt.ylabel(\"Humidity (%)\")\n",
    "plt.ylim(15,105)\n",
    "plt.grid (True)\n",
    "plt.savefig(\"../Images/Latitude_Humidity.png\")\n",
    "plt.show()"
   ]
  },
  {
   "cell_type": "markdown",
   "metadata": {},
   "source": [
    "***This scatter plot shows how the humidity is affected as we move closer or farther away from the Equator. It looks like the humidity levels are not clearly different near the Equator.***"
   ]
  },
  {
   "cell_type": "markdown",
   "metadata": {},
   "source": [
    "## Latitude vs. Cloudiness Plot"
   ]
  },
  {
   "cell_type": "code",
   "execution_count": 36,
   "metadata": {},
   "outputs": [
    {
     "data": {
      "image/png": "[encoded data removed]",
      "text/plain": [
       "<Figure size 432x288 with 1 Axes>"
      ]
     },
     "metadata": {
      "needs_background": "light"
     },
     "output_type": "display_data"
    }
   ],
   "source": [
    "plt.scatter(weather_df[\"Lat\"], \n",
    "            weather_df[\"Cloudiness\"],\n",
    "            edgecolor=\"black\", linewidths=1, marker=\"o\", \n",
    "            alpha=0.8, label=\"Cities\",color = 'mediumpurple')\n",
    "\n",
    "# Incorporate the other graph properties\n",
    "plt.title(\"City Latitude vs. Cloudiness (%s)\" % time.strftime(\"%x\"))\n",
    "plt.ylabel(\"Cloudiness\")\n",
    "plt.xlabel(\"Latitude\")\n",
    "plt.grid(True)\n",
    "\n",
    "# Save the figure\n",
    "plt.savefig(\"../Images/Latitude_Cloudiness.png\")"
   ]
  },
  {
   "cell_type": "markdown",
   "metadata": {},
   "source": [
    "***This scatter plot shows how the cloudiness is affected as we move closer or farther away from the Equator. It doesn't show a clear relationship between cloudiness and the location along the Equator.***"
   ]
  },
  {
   "cell_type": "markdown",
   "metadata": {},
   "source": [
    "## Latitude vs. Wind Speed Plot"
   ]
  },
  {
   "cell_type": "code",
   "execution_count": 38,
   "metadata": {},
   "outputs": [
    {
     "data": {
      "image/png": "[encoded data removed]",
      "text/plain": [
       "<Figure size 432x288 with 1 Axes>"
      ]
     },
     "metadata": {
      "needs_background": "light"
     },
     "output_type": "display_data"
    }
   ],
   "source": [
    "plt.scatter(weather_df[\"Lat\"],weather_df[\"Wind Speed\"],\n",
    "            edgecolors=\"black\",facecolors=\"aqua\")\n",
    "plt.title(\"City Latitude vs. Wind Speed (%s)\" % time.strftime(\"%x\"))\n",
    "plt.xlabel(\"Latitude\")\n",
    "plt.ylabel(\"Wind Speed (mph)\")\n",
    "plt.ylim(-2,34)\n",
    "plt.grid (True)\n",
    "plt.savefig(\"../Images/Latitude_WindSpeed.png\")\n",
    "plt.show()"
   ]
  },
  {
   "cell_type": "markdown",
   "metadata": {},
   "source": [
    "***This scatter plot shows how the wind speed is affected as we move closer or farther away from the Equator. There is no clear relationship between the two.***"
   ]
  },
  {
   "cell_type": "markdown",
   "metadata": {},
   "source": [
    "## Linear Regression"
   ]
  },
  {
   "cell_type": "code",
   "execution_count": 45,
   "metadata": {},
   "outputs": [],
   "source": [
    "# Create a northern and southern dataframe\n",
    "northern_df = weather_df.loc[weather_df['Lat'] > 0]\n",
    "southern_df = weather_df.loc[weather_df['Lat'] < 0]"
   ]
  },
  {
   "cell_type": "code",
   "execution_count": 47,
   "metadata": {},
   "outputs": [
    {
     "data": {
      "text/html": [
       "<div>\n",
       "<style scoped>\n",
       "    .dataframe tbody tr th:only-of-type {\n",
       "        vertical-align: middle;\n",
       "    }\n",
       "\n",
       "    .dataframe tbody tr th {\n",
       "        vertical-align: top;\n",
       "    }\n",
       "\n",
       "    .dataframe thead th {\n",
       "        text-align: right;\n",
       "    }\n",
       "</style>\n",
       "<table border=\"1\" class=\"dataframe\">\n",
       "  <thead>\n",
       "    <tr style=\"text-align: right;\">\n",
       "      <th></th>\n",
       "      <th>City</th>\n",
       "      <th>Lat</th>\n",
       "      <th>Lng</th>\n",
       "      <th>Max Temp</th>\n",
       "      <th>Humidity</th>\n",
       "      <th>Cloudiness</th>\n",
       "      <th>Wind Speed</th>\n",
       "      <th>Country</th>\n",
       "      <th>Date</th>\n",
       "    </tr>\n",
       "  </thead>\n",
       "  <tbody>\n",
       "    <tr>\n",
       "      <th>1</th>\n",
       "      <td>aksu</td>\n",
       "      <td>41.1231</td>\n",
       "      <td>80.2644</td>\n",
       "      <td>58.01</td>\n",
       "      <td>28</td>\n",
       "      <td>100</td>\n",
       "      <td>14.79</td>\n",
       "      <td>CN</td>\n",
       "      <td>1615823932</td>\n",
       "    </tr>\n",
       "    <tr>\n",
       "      <th>3</th>\n",
       "      <td>ponta delgada</td>\n",
       "      <td>38.7333</td>\n",
       "      <td>-28.2667</td>\n",
       "      <td>62.60</td>\n",
       "      <td>88</td>\n",
       "      <td>40</td>\n",
       "      <td>9.22</td>\n",
       "      <td>PT</td>\n",
       "      <td>1615823933</td>\n",
       "    </tr>\n",
       "    <tr>\n",
       "      <th>4</th>\n",
       "      <td>jamestown</td>\n",
       "      <td>42.0970</td>\n",
       "      <td>-79.2353</td>\n",
       "      <td>28.99</td>\n",
       "      <td>35</td>\n",
       "      <td>1</td>\n",
       "      <td>10.31</td>\n",
       "      <td>US</td>\n",
       "      <td>1615823933</td>\n",
       "    </tr>\n",
       "    <tr>\n",
       "      <th>5</th>\n",
       "      <td>vostok</td>\n",
       "      <td>46.4856</td>\n",
       "      <td>135.8833</td>\n",
       "      <td>28.15</td>\n",
       "      <td>76</td>\n",
       "      <td>100</td>\n",
       "      <td>3.51</td>\n",
       "      <td>RU</td>\n",
       "      <td>1615823933</td>\n",
       "    </tr>\n",
       "    <tr>\n",
       "      <th>6</th>\n",
       "      <td>puerto ayora</td>\n",
       "      <td>36.5939</td>\n",
       "      <td>-6.2330</td>\n",
       "      <td>73.40</td>\n",
       "      <td>40</td>\n",
       "      <td>0</td>\n",
       "      <td>3.44</td>\n",
       "      <td>ES</td>\n",
       "      <td>1615823933</td>\n",
       "    </tr>\n",
       "  </tbody>\n",
       "</table>\n",
       "</div>"
      ],
      "text/plain": [
       "            City      Lat       Lng  Max Temp  Humidity  Cloudiness  \\\n",
       "1           aksu  41.1231   80.2644     58.01        28         100   \n",
       "3  ponta delgada  38.7333  -28.2667     62.60        88          40   \n",
       "4      jamestown  42.0970  -79.2353     28.99        35           1   \n",
       "5         vostok  46.4856  135.8833     28.15        76         100   \n",
       "6   puerto ayora  36.5939   -6.2330     73.40        40           0   \n",
       "\n",
       "   Wind Speed Country        Date  \n",
       "1       14.79      CN  1615823932  \n",
       "3        9.22      PT  1615823933  \n",
       "4       10.31      US  1615823933  \n",
       "5        3.51      RU  1615823933  \n",
       "6        3.44      ES  1615823933  "
      ]
     },
     "execution_count": 47,
     "metadata": {},
     "output_type": "execute_result"
    }
   ],
   "source": [
    "northern_df.head()"
   ]
  },
  {
   "cell_type": "code",
   "execution_count": 43,
   "metadata": {
    "scrolled": true
   },
   "outputs": [
    {
     "data": {
      "text/html": [
       "<div>\n",
       "<style scoped>\n",
       "    .dataframe tbody tr th:only-of-type {\n",
       "        vertical-align: middle;\n",
       "    }\n",
       "\n",
       "    .dataframe tbody tr th {\n",
       "        vertical-align: top;\n",
       "    }\n",
       "\n",
       "    .dataframe thead th {\n",
       "        text-align: right;\n",
       "    }\n",
       "</style>\n",
       "<table border=\"1\" class=\"dataframe\">\n",
       "  <thead>\n",
       "    <tr style=\"text-align: right;\">\n",
       "      <th></th>\n",
       "      <th>City</th>\n",
       "      <th>Lat</th>\n",
       "      <th>Lng</th>\n",
       "      <th>Max Temp</th>\n",
       "      <th>Humidity</th>\n",
       "      <th>Cloudiness</th>\n",
       "      <th>Wind Speed</th>\n",
       "      <th>Country</th>\n",
       "      <th>Date</th>\n",
       "    </tr>\n",
       "  </thead>\n",
       "  <tbody>\n",
       "    <tr>\n",
       "      <th>0</th>\n",
       "      <td>kavieng</td>\n",
       "      <td>-2.5744</td>\n",
       "      <td>150.7967</td>\n",
       "      <td>81.16</td>\n",
       "      <td>76</td>\n",
       "      <td>71</td>\n",
       "      <td>7.49</td>\n",
       "      <td>PG</td>\n",
       "      <td>1615823932</td>\n",
       "    </tr>\n",
       "    <tr>\n",
       "      <th>2</th>\n",
       "      <td>bluff</td>\n",
       "      <td>-46.6000</td>\n",
       "      <td>168.3333</td>\n",
       "      <td>51.01</td>\n",
       "      <td>92</td>\n",
       "      <td>89</td>\n",
       "      <td>7.00</td>\n",
       "      <td>NZ</td>\n",
       "      <td>1615823932</td>\n",
       "    </tr>\n",
       "    <tr>\n",
       "      <th>8</th>\n",
       "      <td>bengkulu</td>\n",
       "      <td>-3.8004</td>\n",
       "      <td>102.2655</td>\n",
       "      <td>78.40</td>\n",
       "      <td>82</td>\n",
       "      <td>87</td>\n",
       "      <td>3.62</td>\n",
       "      <td>ID</td>\n",
       "      <td>1615823934</td>\n",
       "    </tr>\n",
       "    <tr>\n",
       "      <th>10</th>\n",
       "      <td>mgandu</td>\n",
       "      <td>-5.9500</td>\n",
       "      <td>34.1333</td>\n",
       "      <td>67.08</td>\n",
       "      <td>79</td>\n",
       "      <td>33</td>\n",
       "      <td>4.32</td>\n",
       "      <td>TZ</td>\n",
       "      <td>1615823935</td>\n",
       "    </tr>\n",
       "    <tr>\n",
       "      <th>11</th>\n",
       "      <td>namibe</td>\n",
       "      <td>-15.1961</td>\n",
       "      <td>12.1522</td>\n",
       "      <td>80.60</td>\n",
       "      <td>69</td>\n",
       "      <td>75</td>\n",
       "      <td>12.66</td>\n",
       "      <td>AO</td>\n",
       "      <td>1615823935</td>\n",
       "    </tr>\n",
       "  </tbody>\n",
       "</table>\n",
       "</div>"
      ],
      "text/plain": [
       "        City      Lat       Lng  Max Temp  Humidity  Cloudiness  Wind Speed  \\\n",
       "0    kavieng  -2.5744  150.7967     81.16        76          71        7.49   \n",
       "2      bluff -46.6000  168.3333     51.01        92          89        7.00   \n",
       "8   bengkulu  -3.8004  102.2655     78.40        82          87        3.62   \n",
       "10    mgandu  -5.9500   34.1333     67.08        79          33        4.32   \n",
       "11    namibe -15.1961   12.1522     80.60        69          75       12.66   \n",
       "\n",
       "   Country        Date  \n",
       "0       PG  1615823932  \n",
       "2       NZ  1615823932  \n",
       "8       ID  1615823934  \n",
       "10      TZ  1615823935  \n",
       "11      AO  1615823935  "
      ]
     },
     "execution_count": 43,
     "metadata": {},
     "output_type": "execute_result"
    }
   ],
   "source": [
    "southern_df.head()"
   ]
  },
  {
   "cell_type": "code",
   "execution_count": 58,
   "metadata": {},
   "outputs": [],
   "source": [
    "# Define function for linear regression\n",
    "def line_regress(x,y,yaxis):\n",
    "    (slope, intercept, rvalue, pvalue, stderr) = linregress(x, y)\n",
    "    regress_values = x * slope + intercept\n",
    "    line_eq = \"y = \" + str(round(slope,2)) + \"x + \" + str(round(intercept,2))\n",
    "    print(line_eq)\n",
    "    # Plot\n",
    "    plt.scatter(x,y)\n",
    "    plt.plot(x,regress_values,\"r-\")\n",
    "    plt.xlabel('Latitude')\n",
    "    plt.ylabel(yaxis)\n",
    "    print(f\"r-squared: {rvalue}\")\n",
    "    plt.show()"
   ]
  },
  {
   "cell_type": "markdown",
   "metadata": {},
   "source": [
    "####  Northern Hemisphere - Max Temp vs. Latitude Linear Regression"
   ]
  },
  {
   "cell_type": "code",
   "execution_count": 59,
   "metadata": {},
   "outputs": [
    {
     "name": "stdout",
     "output_type": "stream",
     "text": [
      "y = -1.28x + 97.9\n",
      "r-squared: -0.8627048545571769\n"
     ]
    },
    {
     "data": {
      "image/png": "[encoded data removed]",
      "text/plain": [
       "<Figure size 432x288 with 1 Axes>"
      ]
     },
     "metadata": {
      "needs_background": "light"
     },
     "output_type": "display_data"
    },
    {
     "data": {
      "text/plain": [
       "<Figure size 432x288 with 0 Axes>"
      ]
     },
     "metadata": {},
     "output_type": "display_data"
    }
   ],
   "source": [
    "x = northern_df['Lat']\n",
    "y = northern_df['Max Temp']\n",
    "line_regress(x,y,'Max Temp')\n",
    "plt.savefig(\"../Images/NH_temp_vs_lat.png\")"
   ]
  },
  {
   "cell_type": "markdown",
   "metadata": {},
   "source": [
    "####  Southern Hemisphere - Max Temp vs. Latitude Linear Regression"
   ]
  },
  {
   "cell_type": "code",
   "execution_count": 60,
   "metadata": {},
   "outputs": [
    {
     "name": "stdout",
     "output_type": "stream",
     "text": [
      "y = 0.42x + 82.44\n",
      "r-squared: 0.5481163661256727\n"
     ]
    },
    {
     "data": {
      "image/png": "[encoded data removed]",
      "text/plain": [
       "<Figure size 432x288 with 1 Axes>"
      ]
     },
     "metadata": {
      "needs_background": "light"
     },
     "output_type": "display_data"
    },
    {
     "data": {
      "text/plain": [
       "<Figure size 432x288 with 0 Axes>"
      ]
     },
     "metadata": {},
     "output_type": "display_data"
    }
   ],
   "source": [
    "x = southern_df['Lat']\n",
    "y = southern_df['Max Temp']\n",
    "line_regress(x,y,'Max Temp')\n",
    "plt.savefig(\"../Images/SH_temp_vs_lat.png\")"
   ]
  },
  {
   "cell_type": "markdown",
   "metadata": {},
   "source": [
    "***Looking at the linear regression for each hemisphere, the Northern hemisphere displays a strong negative relationship between temperatures and latitude (temperature decrease the further from the equator a city lies), while the southern hemisphere displays a strong positive relationship (temperature increase the closer to the equator a city lies).***"
   ]
  },
  {
   "cell_type": "markdown",
   "metadata": {},
   "source": [
    "####  Northern Hemisphere - Humidity (%) vs. Latitude Linear Regression"
   ]
  },
  {
   "cell_type": "code",
   "execution_count": 61,
   "metadata": {},
   "outputs": [
    {
     "name": "stdout",
     "output_type": "stream",
     "text": [
      "y = 0.43x + 49.19\n",
      "r-squared: 0.34822915033220225\n"
     ]
    },
    {
     "data": {
      "image/png": "[encoded data removed]",
      "text/plain": [
       "<Figure size 432x288 with 1 Axes>"
      ]
     },
     "metadata": {
      "needs_background": "light"
     },
     "output_type": "display_data"
    },
    {
     "data": {
      "text/plain": [
       "<Figure size 432x288 with 0 Axes>"
      ]
     },
     "metadata": {},
     "output_type": "display_data"
    }
   ],
   "source": [
    "x = northern_df['Lat']\n",
    "y = northern_df['Humidity']\n",
    "line_regress(x,y,'Humidity')\n",
    "plt.savefig(\"../Images/NH_hum_vs_lat.png\")"
   ]
  },
  {
   "cell_type": "markdown",
   "metadata": {},
   "source": [
    "####  Southern Hemisphere - Humidity (%) vs. Latitude Linear Regression"
   ]
  },
  {
   "cell_type": "code",
   "execution_count": 62,
   "metadata": {},
   "outputs": [
    {
     "name": "stdout",
     "output_type": "stream",
     "text": [
      "y = 0.07x + 74.65\n",
      "r-squared: 0.05301304247326145\n"
     ]
    },
    {
     "data": {
      "image/png": "[encoded data removed]",
      "text/plain": [
       "<Figure size 432x288 with 1 Axes>"
      ]
     },
     "metadata": {
      "needs_background": "light"
     },
     "output_type": "display_data"
    },
    {
     "data": {
      "text/plain": [
       "<Figure size 432x288 with 0 Axes>"
      ]
     },
     "metadata": {},
     "output_type": "display_data"
    }
   ],
   "source": [
    "x = southern_df['Lat']\n",
    "y = southern_df['Humidity']\n",
    "line_regress(x,y,'Humidity')\n",
    "plt.savefig(\"../Images/SH_hum_vs_lat.png\")"
   ]
  },
  {
   "cell_type": "markdown",
   "metadata": {},
   "source": [
    "***Looking at the linear regression for each hemisphere, neither hemisphere shows a strong correlation between humidity and latitude.***"
   ]
  },
  {
   "cell_type": "markdown",
   "metadata": {},
   "source": [
    "####  Northern Hemisphere - Cloudiness (%) vs. Latitude Linear Regression"
   ]
  },
  {
   "cell_type": "code",
   "execution_count": 63,
   "metadata": {},
   "outputs": [
    {
     "name": "stdout",
     "output_type": "stream",
     "text": [
      "y = 0.56x + 29.15\n",
      "r-squared: 0.2853071632408498\n"
     ]
    },
    {
     "data": {
      "image/png": "[encoded data removed]",
      "text/plain": [
       "<Figure size 432x288 with 1 Axes>"
      ]
     },
     "metadata": {
      "needs_background": "light"
     },
     "output_type": "display_data"
    },
    {
     "data": {
      "text/plain": [
       "<Figure size 432x288 with 0 Axes>"
      ]
     },
     "metadata": {},
     "output_type": "display_data"
    }
   ],
   "source": [
    "x = northern_df['Lat']\n",
    "y = northern_df['Cloudiness']\n",
    "line_regress(x,y,'Cloudiness')\n",
    "plt.savefig(\"../Images/NH_cloud_vs_lat.png\")"
   ]
  },
  {
   "cell_type": "markdown",
   "metadata": {},
   "source": [
    "####  Southern Hemisphere - Cloudiness (%) vs. Latitude Linear Regression"
   ]
  },
  {
   "cell_type": "code",
   "execution_count": 64,
   "metadata": {},
   "outputs": [
    {
     "name": "stdout",
     "output_type": "stream",
     "text": [
      "y = 0.19x + 57.37\n",
      "r-squared: 0.06870255356188003\n"
     ]
    },
    {
     "data": {
      "image/png": "[encoded data removed]",
      "text/plain": [
       "<Figure size 432x288 with 1 Axes>"
      ]
     },
     "metadata": {
      "needs_background": "light"
     },
     "output_type": "display_data"
    },
    {
     "data": {
      "text/plain": [
       "<Figure size 432x288 with 0 Axes>"
      ]
     },
     "metadata": {},
     "output_type": "display_data"
    }
   ],
   "source": [
    "x = southern_df['Lat']\n",
    "y = southern_df['Cloudiness']\n",
    "line_regress(x,y,'Cloudiness')\n",
    "plt.savefig(\"../Images/SH_cloud_vs_lat.png\")"
   ]
  },
  {
   "cell_type": "markdown",
   "metadata": {},
   "source": [
    "***Looking at the linear regression for each hemisphere, neither hemisphere shows a strong correlation between cloudiness and latitude.***"
   ]
  },
  {
   "cell_type": "markdown",
   "metadata": {},
   "source": [
    "####  Northern Hemisphere - Wind Speed (mph) vs. Latitude Linear Regression"
   ]
  },
  {
   "cell_type": "code",
   "execution_count": 65,
   "metadata": {},
   "outputs": [
    {
     "name": "stdout",
     "output_type": "stream",
     "text": [
      "y = 0.04x + 7.43\n",
      "r-squared: 0.1335003023443642\n"
     ]
    },
    {
     "data": {
      "image/png": "[encoded data removed]",
      "text/plain": [
       "<Figure size 432x288 with 1 Axes>"
      ]
     },
     "metadata": {
      "needs_background": "light"
     },
     "output_type": "display_data"
    },
    {
     "data": {
      "text/plain": [
       "<Figure size 432x288 with 0 Axes>"
      ]
     },
     "metadata": {},
     "output_type": "display_data"
    }
   ],
   "source": [
    "x = northern_df['Lat']\n",
    "y = northern_df['Wind Speed']\n",
    "line_regress(x,y,'Wind Speed')\n",
    "plt.savefig(\"../Images/NH_speed_vs_lat.png\")"
   ]
  },
  {
   "cell_type": "markdown",
   "metadata": {},
   "source": [
    "####  Southern Hemisphere - Wind Speed (mph) vs. Latitude Linear Regression"
   ]
  },
  {
   "cell_type": "code",
   "execution_count": 66,
   "metadata": {},
   "outputs": [
    {
     "name": "stdout",
     "output_type": "stream",
     "text": [
      "y = -0.14x + 4.13\n",
      "r-squared: -0.34307995635247157\n"
     ]
    },
    {
     "data": {
      "image/png": "[encoded data removed]",
      "text/plain": [
       "<Figure size 432x288 with 1 Axes>"
      ]
     },
     "metadata": {
      "needs_background": "light"
     },
     "output_type": "display_data"
    },
    {
     "data": {
      "text/plain": [
       "<Figure size 432x288 with 0 Axes>"
      ]
     },
     "metadata": {},
     "output_type": "display_data"
    }
   ],
   "source": [
    "x = southern_df['Lat']\n",
    "y = southern_df['Wind Speed']\n",
    "line_regress(x,y,'Wind Speed')\n",
    "plt.savefig(\"../Images/SH_speed_vs_lat.png\")"
   ]
  },
  {
   "cell_type": "markdown",
   "metadata": {},
   "source": [
    "***Looking at the linear regression for each hemisphere, neither hemisphere shows a strong correlaton between wind speed and latitude.***"
   ]
  },
  {
   "cell_type": "code",
   "execution_count": null,
   "metadata": {},
   "outputs": [],
   "source": []
  }
 ],
 "metadata": {
  "anaconda-cloud": {},
  "kernel_info": {
   "name": "python3"
  },
  "kernelspec": {
   "display_name": "Python [conda env:PythonData] *",
   "language": "python",
   "name": "conda-env-PythonData-py"
  },
  "language_info": {
   "codemirror_mode": {
    "name": "ipython",
    "version": 3
   },
   "file_extension": ".py",
   "mimetype": "text/x-python",
   "name": "python",
   "nbconvert_exporter": "python",
   "pygments_lexer": "ipython3",
   "version": "3.6.10"
  },
  "latex_envs": {
   "LaTeX_envs_menu_present": true,
   "autoclose": false,
   "autocomplete": true,
   "bibliofile": "biblio.bib",
   "cite_by": "apalike",
   "current_citInitial": 1,
   "eqLabelWithNumbers": true,
   "eqNumInitial": 1,
   "hotkeys": {
    "equation": "Ctrl-E",
    "itemize": "Ctrl-I"
   },
   "labels_anchors": false,
   "latex_user_defs": false,
   "report_style_numbering": false,
   "user_envs_cfg": false
  },
  "nteract": {
   "version": "0.12.3"
  }
 },
 "nbformat": 4,
 "nbformat_minor": 2
}
